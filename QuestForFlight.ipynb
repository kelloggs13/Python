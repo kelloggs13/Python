{
 "cells": [
  {
   "cell_type": "markdown",
   "metadata": {},
   "source": [
    "# The Quest for Flight\n"
   ]
  },
  {
   "cell_type": "markdown",
   "metadata": {},
   "source": [
    "![Image of Yaktocat](https://imgs.xkcd.com/comics/python.png)"
   ]
  },
  {
   "cell_type": "markdown",
   "metadata": {},
   "source": [
    "## Getting started"
   ]
  },
  {
   "cell_type": "code",
   "execution_count": null,
   "metadata": {},
   "outputs": [],
   "source": [
    "# import packages\n",
    "import pandas as pd\n",
    "import seaborn as sb\n",
    "import numpy as np\n",
    "import os\n",
    "import matplotlib.pyplot as plt\n",
    "\n",
    "# enable auto complete\n",
    "%config IPCompleter.greedy=True"
   ]
  },
  {
   "cell_type": "code",
   "execution_count": null,
   "metadata": {},
   "outputs": [],
   "source": [
    "# set working directory\n",
    "os.chdir('C:\\\\Users\\\\Tobi\\\\Jupyiter Notebooks\\\\')"
   ]
  },
  {
   "cell_type": "code",
   "execution_count": null,
   "metadata": {},
   "outputs": [],
   "source": [
    "# get data set\n",
    "iris = sb.load_dataset('iris')\n",
    "\n",
    "# check if data is dataframe\n",
    "isinstance(iris, pd.DataFrame)"
   ]
  },
  {
   "cell_type": "markdown",
   "metadata": {},
   "source": [
    "## Properties of the dataframe\n",
    "Properties have no no () no arguments (as opposed to methods)"
   ]
  },
  {
   "cell_type": "code",
   "execution_count": null,
   "metadata": {},
   "outputs": [],
   "source": [
    "# datatypes\n",
    "iris.dtypes"
   ]
  },
  {
   "cell_type": "code",
   "execution_count": null,
   "metadata": {},
   "outputs": [],
   "source": [
    "# columns\n",
    "iris.columns"
   ]
  },
  {
   "cell_type": "markdown",
   "metadata": {},
   "source": [
    "# Display data\n",
    "iris.head(3)"
   ]
  },
  {
   "cell_type": "markdown",
   "metadata": {},
   "source": [
    "## Accessing data"
   ]
  },
  {
   "cell_type": "code",
   "execution_count": null,
   "metadata": {},
   "outputs": [],
   "source": [
    "# access column by name (string)\n",
    "iris['sepal_length']"
   ]
  },
  {
   "cell_type": "code",
   "execution_count": null,
   "metadata": {},
   "outputs": [],
   "source": [
    "# access column by name (dot notation)\n",
    "iris.species"
   ]
  },
  {
   "cell_type": "markdown",
   "metadata": {},
   "source": [
    "## Describing data"
   ]
  },
  {
   "cell_type": "code",
   "execution_count": null,
   "metadata": {},
   "outputs": [],
   "source": [
    "# numerical dat\n",
    "iris.describe(include = [np.number])"
   ]
  },
  {
   "cell_type": "code",
   "execution_count": null,
   "metadata": {},
   "outputs": [],
   "source": [
    "# categorical data\n",
    "iris.describe(include = ['O'])"
   ]
  },
  {
   "cell_type": "markdown",
   "metadata": {},
   "source": [
    "## Statistical functions"
   ]
  },
  {
   "cell_type": "code",
   "execution_count": null,
   "metadata": {},
   "outputs": [],
   "source": [
    "print(np.mean(iris.sepal_length))\n",
    "print(np.median(iris.sepal_length))"
   ]
  },
  {
   "cell_type": "markdown",
   "metadata": {},
   "source": [
    "## Aggregations"
   ]
  },
  {
   "cell_type": "code",
   "execution_count": null,
   "metadata": {
    "scrolled": true
   },
   "outputs": [],
   "source": [
    "iris.sum()"
   ]
  },
  {
   "cell_type": "code",
   "execution_count": null,
   "metadata": {},
   "outputs": [],
   "source": [
    "iris.sum(axis=0)"
   ]
  },
  {
   "cell_type": "code",
   "execution_count": null,
   "metadata": {},
   "outputs": [],
   "source": [
    "iris.sum(axis=1)"
   ]
  },
  {
   "cell_type": "markdown",
   "metadata": {},
   "source": [
    "## Grouped Aggregations"
   ]
  },
  {
   "cell_type": "markdown",
   "metadata": {},
   "source": [
    "Mit groupby()"
   ]
  },
  {
   "cell_type": "code",
   "execution_count": null,
   "metadata": {},
   "outputs": [],
   "source": [
    "iris.groupby(['species']).sum()"
   ]
  },
  {
   "cell_type": "markdown",
   "metadata": {},
   "source": [
    "Direkt"
   ]
  },
  {
   "cell_type": "code",
   "execution_count": null,
   "metadata": {},
   "outputs": [],
   "source": [
    "iris['species'].value_counts()"
   ]
  },
  {
   "cell_type": "code",
   "execution_count": null,
   "metadata": {},
   "outputs": [],
   "source": [
    "iris.groupby(['species']).size()"
   ]
  },
  {
   "cell_type": "markdown",
   "metadata": {},
   "source": [
    " ### Selecting rows \n",
    "Use single brackets.  \n",
    "Indexing starts at 1 (tbc).  \n",
    "If only 1 row is selected it is returned as a list.  "
   ]
  },
  {
   "cell_type": "markdown",
   "metadata": {},
   "source": [
    "## Accessing data within a DataFrame\n",
    "Use .loc() to locate the requested data - .loc(row reference, column reference).      \n",
    "Warning: Note that contrary to usual python slices, both the start and the stop are included.  "
   ]
  },
  {
   "cell_type": "code",
   "execution_count": null,
   "metadata": {},
   "outputs": [],
   "source": [
    "print(iris.loc[1])"
   ]
  },
  {
   "cell_type": "code",
   "execution_count": null,
   "metadata": {},
   "outputs": [],
   "source": [
    "print(iris.loc[1:2])"
   ]
  },
  {
   "cell_type": "markdown",
   "metadata": {},
   "source": [
    "Weiter gehts mit: https://pandas.pydata.org/pandas-docs/stable/reference/api/pandas.DataFrame.loc.html"
   ]
  },
  {
   "cell_type": "markdown",
   "metadata": {},
   "source": [
    "## Manipulating data"
   ]
  },
  {
   "cell_type": "code",
   "execution_count": null,
   "metadata": {},
   "outputs": [],
   "source": [
    "# addding new columns\n",
    "iris['tmp'] = iris.sepal_length   + iris.sepal_width  \n",
    "\n",
    "# adding new colums with conditional logic\n",
    "iris['tmp2'] =  np.where(iris.sepal_length >= 5.0, 1, 0)   \n",
    "\n",
    "iris.head()"
   ]
  },
  {
   "cell_type": "code",
   "execution_count": null,
   "metadata": {},
   "outputs": [],
   "source": [
    "# remove columns from dataframe \n",
    "iris.drop(columns = ['tmp', 'tmp2'])\n",
    "iris.head()\n"
   ]
  },
  {
   "cell_type": "markdown",
   "metadata": {},
   "source": [
    "# Plotting\n",
    "Matplotlib is the de-facto standard.<br><br> \n",
    "Seaborn is built over Matplotlib and makes building more attractive plots easier. Just by importing Seaborn, your matplotlib plots are made ‘prettier’ without any code modification.<br><br>\n",
    "ggplot currently seems to be bugged: Seems currently to be bugged : https://github.com/yhat/ggpy/issues/662"
   ]
  },
  {
   "cell_type": "markdown",
   "metadata": {},
   "source": [
    "## Matplotlib\n",
    "Tutorials: https://matplotlib.org/tutorials/index.html"
   ]
  },
  {
   "cell_type": "code",
   "execution_count": null,
   "metadata": {},
   "outputs": [],
   "source": [
    "# setting up a figure with multiple plots\n",
    "plt.figure(figsize=(12, 3))\n",
    "\n",
    "# basic figure from scratch\n",
    "plt.subplot(131) \n",
    "plt.plot(iris.sepal_length, iris.sepal_width, 'ro')\n",
    "# adding data from a second dataset\n",
    "plt.subplot(132)\n",
    "plt.plot(iris.sepal_length, iris.sepal_width, 'ro')\n",
    "plt.plot(iris.sepal_length, iris.petal_width, 'g+')\n",
    "# scatter plot - and using the data argument (which then requires the dimensions to be written as strings)\n",
    "plt.subplot(133)\n",
    "plt.scatter('sepal_length', 'petal_width', data = iris)\n",
    "# title, annotations and legends\n",
    "#plt.bar(species, data = iris)\n",
    "#plt.title('title')\n"
   ]
  },
  {
   "cell_type": "code",
   "execution_count": null,
   "metadata": {},
   "outputs": [],
   "source": [
    "#plt.bar(iris.species.value_counts(), data = iris)\n"
   ]
  },
  {
   "cell_type": "code",
   "execution_count": null,
   "metadata": {},
   "outputs": [],
   "source": [
    "iris.groupby(['species'], as_index = False).count()"
   ]
  },
  {
   "cell_type": "code",
   "execution_count": 4,
   "metadata": {},
   "outputs": [
    {
     "data": {
      "text/plain": [
       "species     sepal_width\n",
       "setosa      2.3             1\n",
       "            2.9             1\n",
       "            3.0             6\n",
       "            3.1             4\n",
       "            3.2             5\n",
       "            3.3             2\n",
       "            3.4             9\n",
       "            3.5             6\n",
       "            3.6             3\n",
       "            3.7             3\n",
       "            3.8             4\n",
       "            3.9             2\n",
       "            4.0             1\n",
       "            4.1             1\n",
       "            4.2             1\n",
       "            4.4             1\n",
       "versicolor  2.0             1\n",
       "            2.2             2\n",
       "            2.3             3\n",
       "            2.4             3\n",
       "            2.5             4\n",
       "            2.6             3\n",
       "            2.7             5\n",
       "            2.8             6\n",
       "            2.9             7\n",
       "            3.0             8\n",
       "            3.1             3\n",
       "            3.2             3\n",
       "            3.3             1\n",
       "            3.4             1\n",
       "virginica   2.2             1\n",
       "            2.5             4\n",
       "            2.6             2\n",
       "            2.7             4\n",
       "            2.8             8\n",
       "            2.9             2\n",
       "            3.0            12\n",
       "            3.1             4\n",
       "            3.2             5\n",
       "            3.3             3\n",
       "            3.4             2\n",
       "            3.6             1\n",
       "            3.8             2\n",
       "dtype: int64"
      ]
     },
     "execution_count": 4,
     "metadata": {},
     "output_type": "execute_result"
    }
   ],
   "source": [
    "def FreqTable(df, x):\n",
    "    return(df.groupby(x, as_index = False).count())\n",
    "\n",
    "FreqTable(iris, 'species')\n",
    "\n",
    "def FreqTable2(df, x, y):\n",
    "    return(df.groupby([x, y], as_index = False).size())\n",
    "           \n",
    "FreqTable2(iris, 'species', 'sepal_width')"
   ]
  },
  {
   "cell_type": "code",
   "execution_count": null,
   "metadata": {},
   "outputs": [],
   "source": []
  }
 ],
 "metadata": {
  "celltoolbar": "Tags",
  "kernelspec": {
   "display_name": "Python 3",
   "language": "python",
   "name": "python3"
  },
  "language_info": {
   "codemirror_mode": {
    "name": "ipython",
    "version": 3
   },
   "file_extension": ".py",
   "mimetype": "text/x-python",
   "name": "python",
   "nbconvert_exporter": "python",
   "pygments_lexer": "ipython3",
   "version": "3.7.4"
  }
 },
 "nbformat": 4,
 "nbformat_minor": 2
}
